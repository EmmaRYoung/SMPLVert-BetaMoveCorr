{
 "cells": [
  {
   "cell_type": "code",
   "execution_count": 1,
   "id": "575ac5f1",
   "metadata": {},
   "outputs": [
    {
     "name": "stderr",
     "output_type": "stream",
     "text": [
      "C:\\Users\\swoosh\\anaconda3\\envs\\SMPL_BODY_MODEL\\lib\\site-packages\\tqdm\\auto.py:22: TqdmWarning: IProgress not found. Please update jupyter and ipywidgets. See https://ipywidgets.readthedocs.io/en/stable/user_install.html\n",
      "  from .autonotebook import tqdm as notebook_tqdm\n"
     ]
    },
    {
     "name": "stdout",
     "output_type": "stream",
     "text": [
      "Jupyter environment detected. Enabling Open3D WebVisualizer.\n",
      "[Open3D INFO] WebRTC GUI backend enabled.\n",
      "[Open3D INFO] WebRTCWindowSystem: HTTP handshake server disabled.\n"
     ]
    }
   ],
   "source": [
    "import numpy as np\n",
    "import numpy.linalg as LA\n",
    "import torch\n",
    "comp_device = torch.device(\"cpu\")\n",
    "from human_body_prior.body_model.body_model import BodyModel\n",
    "from human_body_prior.tools.omni_tools import copy2cpu as c2c\n",
    "import json\n",
    "import time\n",
    "import open3d as o3d\n",
    "\n",
    "import matplotlib.pyplot as plt\n",
    "from mpl_toolkits.mplot3d import Axes3D\n",
    "\n",
    "from SteepestDescent import SteepestDescent_1\n",
    "from SteepestDescent import SteepestDescent_2\n",
    "from SteepestDescent import SteepestDescent_3\n",
    "from SteepestDescent import SteepestDescent_4\n",
    "\n",
    "from Orient import Orient\n",
    "\n",
    "\n",
    "## setup path and body model\n",
    "bm_path = '../support_data/body_models/smplh/neutral/model.npz'\n",
    "dmpl_path = '../support_data/body_models/dmpls/neutral/model.npz'\n",
    "num_betas = 10 # number of body parameters\n",
    "num_dmpls = 8\n"
   ]
  },
  {
   "cell_type": "code",
   "execution_count": 2,
   "id": "6a3b6b25",
   "metadata": {},
   "outputs": [],
   "source": [
    "def matrix_dist(A,B):\n",
    "    #A and B must be of same shape\n",
    "    \n",
    "    L = len(A)\n",
    "    mag = np.empty((L))\n",
    "    \n",
    "    for i in range(L):\n",
    "        mag[i] = LA.norm(A[i] - B[i])\n",
    "        \n",
    "    return mag"
   ]
  },
  {
   "cell_type": "code",
   "execution_count": 3,
   "id": "2854fce6",
   "metadata": {},
   "outputs": [],
   "source": [
    "#randomly sample SMPL shape distribution\n",
    "N = 100\n",
    "\n",
    "betas_store = np.empty((N,10))\n",
    "#mesh_store = np.empty((N,6890,3))\n",
    "magnitude_store = np.empty((6890,N))\n",
    "\n",
    "pose_body = np.zeros((1,63))\n",
    "pose_body = torch.Tensor(pose_body).to(comp_device) # controls the body\n",
    "\n",
    "bm = BodyModel(bm_fname=bm_path, num_betas=num_betas, num_dmpls=num_dmpls, dmpl_fname=dmpl_path).to(comp_device)\n",
    "\n",
    "#define average vertices\n",
    "betas = np.zeros((1,10))\n",
    "betas = torch.Tensor(betas).to(comp_device) # controls the body shape\n",
    "body = bm(pose_body = pose_body, betas=betas)\n",
    "vertices_0 = c2c(body.v[0])\n",
    "\n",
    "for i in range(N):\n",
    "    \n",
    "    #create random betas vector\n",
    "    betas = 6*np.random.random((1,10))\n",
    "    betas_store[i,:] = betas\n",
    "    betas = torch.Tensor(betas).to(comp_device) # controls the body shape\n",
    "    \n",
    "    #feed into smpl scripts\n",
    "    body = bm(pose_body=pose_body, betas=betas)\n",
    "    \n",
    "    #Get mesh vertices\n",
    "    vertices = c2c(body.v[0])\n",
    "    #mesh_store[i][:][:] = vertices\n",
    "    \n",
    "    #calculate magnitude of node movement\n",
    "    magnitude = matrix_dist(vertices,vertices_0)\n",
    "    magnitude_store[:,i] = magnitude \n",
    "    \n",
    "    #Save shape parameters and mesh vertices in database.\n",
    "    "
   ]
  },
  {
   "cell_type": "code",
   "execution_count": 4,
   "id": "9785a388",
   "metadata": {},
   "outputs": [],
   "source": [
    "#construct matrix to determine covariance"
   ]
  },
  {
   "cell_type": "code",
   "execution_count": 7,
   "id": "6d2407b4",
   "metadata": {},
   "outputs": [
    {
     "name": "stdout",
     "output_type": "stream",
     "text": [
      "(100, 6900)\n"
     ]
    }
   ],
   "source": [
    "import pandas as pd\n",
    "\n",
    "matrix = np.empty((N,10+6890))\n",
    "matrix[:,0:10] = betas_store\n",
    "matrix[:,10:10+6890] = np.transpose(magnitude_store)\n",
    "print(matrix.shape)"
   ]
  },
  {
   "cell_type": "code",
   "execution_count": null,
   "id": "6f666a11",
   "metadata": {},
   "outputs": [],
   "source": [
    "df = pd.DataFrame(data = matrix)\n",
    "\n",
    "corr_matrix = df.corr()\n",
    "np.savetxt(\"ShapeValue_Vertices_Correlation_N100.txt\", corr_matrix, fmt = '%f')"
   ]
  },
  {
   "cell_type": "code",
   "execution_count": 6,
   "id": "19524609",
   "metadata": {},
   "outputs": [
    {
     "name": "stdout",
     "output_type": "stream",
     "text": [
      "tensor([[3.8907, 4.2118, 4.6201, 3.3946, 5.7722, 5.2770, 4.9570, 4.6209, 5.5562,\n",
      "         0.3414]])\n"
     ]
    }
   ],
   "source": [
    "print(betas)"
   ]
  },
  {
   "cell_type": "code",
   "execution_count": null,
   "id": "8a5db8f4",
   "metadata": {},
   "outputs": [],
   "source": []
  }
 ],
 "metadata": {
  "kernelspec": {
   "display_name": "Python 3 (ipykernel)",
   "language": "python",
   "name": "python3"
  },
  "language_info": {
   "codemirror_mode": {
    "name": "ipython",
    "version": 3
   },
   "file_extension": ".py",
   "mimetype": "text/x-python",
   "name": "python",
   "nbconvert_exporter": "python",
   "pygments_lexer": "ipython3",
   "version": "3.7.13"
  }
 },
 "nbformat": 4,
 "nbformat_minor": 5
}
